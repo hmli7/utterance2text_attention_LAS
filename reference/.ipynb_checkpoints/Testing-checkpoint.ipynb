{
 "cells": [
  {
   "cell_type": "code",
   "execution_count": null,
   "metadata": {},
   "outputs": [],
   "source": [
    "import numpy as np\n",
    "import torch"
   ]
  },
  {
   "cell_type": "code",
   "execution_count": null,
   "metadata": {},
   "outputs": [],
   "source": []
  },
  {
   "cell_type": "code",
   "execution_count": 165,
   "metadata": {},
   "outputs": [],
   "source": [
    "test = torch.rand((2,4,6))"
   ]
  },
  {
   "cell_type": "code",
   "execution_count": 166,
   "metadata": {},
   "outputs": [
    {
     "data": {
      "text/plain": [
       "tensor([[[0.6955, 0.3495, 0.6494, 0.0398, 0.6244, 0.6296],\n",
       "         [0.3934, 0.5853, 0.2519, 0.6088, 0.6838, 0.9398],\n",
       "         [0.2320, 0.8889, 0.6165, 0.8721, 0.9293, 0.1492],\n",
       "         [0.9164, 0.2679, 0.8323, 0.3445, 0.0937, 0.2521]],\n",
       "\n",
       "        [[0.0844, 0.8881, 0.0815, 0.3233, 0.5118, 0.9274],\n",
       "         [0.5324, 0.6198, 0.4622, 0.6387, 0.2578, 0.2945],\n",
       "         [0.9677, 0.9266, 0.4383, 0.2945, 0.6129, 0.2483],\n",
       "         [0.2953, 0.7952, 0.3841, 0.1417, 0.9776, 0.4281]]])"
      ]
     },
     "execution_count": 166,
     "metadata": {},
     "output_type": "execute_result"
    }
   ],
   "source": [
    "test"
   ]
  },
  {
   "cell_type": "code",
   "execution_count": 168,
   "metadata": {},
   "outputs": [
    {
     "data": {
      "text/plain": [
       "tensor([[[0.6955, 0.3495, 0.6494, 0.0398, 0.6244, 0.6296, 0.3934, 0.5853,\n",
       "          0.2519, 0.6088, 0.6838, 0.9398],\n",
       "         [0.2320, 0.8889, 0.6165, 0.8721, 0.9293, 0.1492, 0.9164, 0.2679,\n",
       "          0.8323, 0.3445, 0.0937, 0.2521]],\n",
       "\n",
       "        [[0.0844, 0.8881, 0.0815, 0.3233, 0.5118, 0.9274, 0.5324, 0.6198,\n",
       "          0.4622, 0.6387, 0.2578, 0.2945],\n",
       "         [0.9677, 0.9266, 0.4383, 0.2945, 0.6129, 0.2483, 0.2953, 0.7952,\n",
       "          0.3841, 0.1417, 0.9776, 0.4281]]])"
      ]
     },
     "execution_count": 168,
     "metadata": {},
     "output_type": "execute_result"
    }
   ],
   "source": [
    "test.view(2, int(4//2), 6*2)"
   ]
  },
  {
   "cell_type": "code",
   "execution_count": 169,
   "metadata": {},
   "outputs": [
    {
     "data": {
      "text/plain": [
       "tensor([[[0.6955, 0.3495, 0.6494, 0.0398, 0.6244, 0.6296, 0.3934, 0.5853,\n",
       "          0.2519, 0.6088, 0.6838, 0.9398],\n",
       "         [0.2320, 0.8889, 0.6165, 0.8721, 0.9293, 0.1492, 0.9164, 0.2679,\n",
       "          0.8323, 0.3445, 0.0937, 0.2521]],\n",
       "\n",
       "        [[0.0844, 0.8881, 0.0815, 0.3233, 0.5118, 0.9274, 0.5324, 0.6198,\n",
       "          0.4622, 0.6387, 0.2578, 0.2945],\n",
       "         [0.9677, 0.9266, 0.4383, 0.2945, 0.6129, 0.2483, 0.2953, 0.7952,\n",
       "          0.3841, 0.1417, 0.9776, 0.4281]]])"
      ]
     },
     "execution_count": 169,
     "metadata": {},
     "output_type": "execute_result"
    }
   ],
   "source": [
    "test.contiguous().view(2, int(4//2), 6*2)"
   ]
  },
  {
   "cell_type": "code",
   "execution_count": 28,
   "metadata": {},
   "outputs": [],
   "source": [
    "from torch.nn.utils.rnn import pad_sequence,pack_padded_sequence,pad_packed_sequence\n"
   ]
  },
  {
   "cell_type": "code",
   "execution_count": 2,
   "metadata": {},
   "outputs": [],
   "source": [
    "test = torch.randint(0,10,(2,3,4))"
   ]
  },
  {
   "cell_type": "code",
   "execution_count": 3,
   "metadata": {},
   "outputs": [
    {
     "data": {
      "text/plain": [
       "tensor([[[8, 0, 4, 2],\n",
       "         [6, 8, 3, 8],\n",
       "         [7, 3, 3, 9]],\n",
       "\n",
       "        [[2, 7, 7, 4],\n",
       "         [3, 7, 2, 7],\n",
       "         [9, 1, 9, 5]]])"
      ]
     },
     "execution_count": 3,
     "metadata": {},
     "output_type": "execute_result"
    }
   ],
   "source": [
    "test"
   ]
  },
  {
   "cell_type": "code",
   "execution_count": 14,
   "metadata": {},
   "outputs": [],
   "source": [
    "test1 = test.new_zeros(2,4)"
   ]
  },
  {
   "cell_type": "code",
   "execution_count": 19,
   "metadata": {},
   "outputs": [
    {
     "data": {
      "text/plain": [
       "tensor([[6, 8, 3, 8, 0, 0, 0, 0],\n",
       "        [3, 7, 2, 7, 0, 0, 0, 0]])"
      ]
     },
     "execution_count": 19,
     "metadata": {},
     "output_type": "execute_result"
    }
   ],
   "source": [
    "torch.cat([test[:,1,:], test1], dim=1)"
   ]
  },
  {
   "cell_type": "code",
   "execution_count": 18,
   "metadata": {},
   "outputs": [
    {
     "data": {
      "text/plain": [
       "tensor([[[6, 8, 3, 8]],\n",
       "\n",
       "        [[3, 7, 2, 7]]])"
      ]
     },
     "execution_count": 18,
     "metadata": {},
     "output_type": "execute_result"
    }
   ],
   "source": [
    "test[:,1,:].unsqueeze(1)"
   ]
  },
  {
   "cell_type": "code",
   "execution_count": 21,
   "metadata": {},
   "outputs": [
    {
     "data": {
      "text/plain": [
       "torch.Size([3, 4])"
      ]
     },
     "execution_count": 21,
     "metadata": {},
     "output_type": "execute_result"
    }
   ],
   "source": [
    "test[-1].size()"
   ]
  },
  {
   "cell_type": "code",
   "execution_count": 22,
   "metadata": {},
   "outputs": [
    {
     "data": {
      "text/plain": [
       "tensor([[[8, 0, 4, 2],\n",
       "         [6, 8, 3, 8],\n",
       "         [7, 3, 3, 9]],\n",
       "\n",
       "        [[2, 7, 7, 4],\n",
       "         [3, 7, 2, 7],\n",
       "         [9, 1, 9, 5]]])"
      ]
     },
     "execution_count": 22,
     "metadata": {},
     "output_type": "execute_result"
    }
   ],
   "source": [
    "test"
   ]
  },
  {
   "cell_type": "code",
   "execution_count": 59,
   "metadata": {},
   "outputs": [
    {
     "data": {
      "text/plain": [
       "tensor([[4, 7, 2, 2, 2, 7, 6, 9, 9, 1]])"
      ]
     },
     "execution_count": 59,
     "metadata": {},
     "output_type": "execute_result"
    }
   ],
   "source": [
    "test = torch.randint(0,10,(1,10))\n",
    "test\n",
    "# batch_size, max_length"
   ]
  },
  {
   "cell_type": "code",
   "execution_count": 66,
   "metadata": {},
   "outputs": [
    {
     "data": {
      "text/plain": [
       "tensor([[0, 1, 2, 3, 4, 5, 6, 7, 8, 9],\n",
       "        [0, 1, 2, 3, 4, 5, 6, 7, 8, 9],\n",
       "        [0, 1, 2, 3, 4, 5, 6, 7, 8, 9]], dtype=torch.int32)"
      ]
     },
     "execution_count": 66,
     "metadata": {},
     "output_type": "execute_result"
    }
   ],
   "source": [
    "test1 = torch.stack([torch.arange(0,10) for i in range(3)]).int()# batch_size = 3, max_len = 10\n",
    "test1"
   ]
  },
  {
   "cell_type": "code",
   "execution_count": 73,
   "metadata": {},
   "outputs": [
    {
     "data": {
      "text/plain": [
       "torch.Size([3, 10])"
      ]
     },
     "execution_count": 73,
     "metadata": {},
     "output_type": "execute_result"
    }
   ],
   "source": [
    "test2 = torch.stack([torch.full((1,10),i).squeeze(0) for i in torch.tensor([7,8,9])]).int()\n",
    "test2.size()"
   ]
  },
  {
   "cell_type": "code",
   "execution_count": 75,
   "metadata": {},
   "outputs": [],
   "source": [
    "mask = test1<test2"
   ]
  },
  {
   "cell_type": "code",
   "execution_count": 169,
   "metadata": {},
   "outputs": [
    {
     "data": {
      "text/plain": [
       "tensor([[1, 1, 1, 1, 1, 1, 1, 0, 0, 0],\n",
       "        [1, 1, 1, 1, 1, 1, 1, 1, 0, 0],\n",
       "        [1, 1, 1, 1, 1, 1, 1, 1, 1, 0]], dtype=torch.uint8)"
      ]
     },
     "execution_count": 169,
     "metadata": {},
     "output_type": "execute_result"
    }
   ],
   "source": [
    "mask"
   ]
  },
  {
   "cell_type": "code",
   "execution_count": 171,
   "metadata": {},
   "outputs": [
    {
     "data": {
      "text/plain": [
       "torch.Size([3, 10, 6])"
      ]
     },
     "execution_count": 171,
     "metadata": {},
     "output_type": "execute_result"
    }
   ],
   "source": [
    "mask.unsqueeze(2).repeat(\n",
    "            (1, 1, 6)).size()"
   ]
  },
  {
   "cell_type": "code",
   "execution_count": 117,
   "metadata": {},
   "outputs": [
    {
     "data": {
      "text/plain": [
       "tensor(1.0000)"
      ]
     },
     "execution_count": 117,
     "metadata": {},
     "output_type": "execute_result"
    }
   ],
   "source": [
    "test[0,:,0].sum()"
   ]
  },
  {
   "cell_type": "code",
   "execution_count": 124,
   "metadata": {},
   "outputs": [
    {
     "data": {
      "text/plain": [
       "torch.Size([3, 5, 10])"
      ]
     },
     "execution_count": 124,
     "metadata": {},
     "output_type": "execute_result"
    }
   ],
   "source": [
    "mask.unsqueeze(1).repeat((1,5,1)).size()"
   ]
  },
  {
   "cell_type": "code",
   "execution_count": 134,
   "metadata": {},
   "outputs": [],
   "source": [
    "test = torch.mul(mask.unsqueeze(2).repeat((1,1,5)).float(),torch.randint(1,10,(3,10,5)).float())"
   ]
  },
  {
   "cell_type": "code",
   "execution_count": 164,
   "metadata": {},
   "outputs": [
    {
     "data": {
      "text/plain": [
       "tensor([[[0.0588],\n",
       "         [0.1471],\n",
       "         [0.2647],\n",
       "         [0.0588],\n",
       "         [0.2647],\n",
       "         [0.1471],\n",
       "         [0.0588],\n",
       "         [0.0000],\n",
       "         [0.0000],\n",
       "         [0.0000]],\n",
       "\n",
       "        [[0.1837],\n",
       "         [0.0816],\n",
       "         [0.0204],\n",
       "         [0.1633],\n",
       "         [0.1224],\n",
       "         [0.1020],\n",
       "         [0.1429],\n",
       "         [0.1837],\n",
       "         [0.0000],\n",
       "         [0.0000]],\n",
       "\n",
       "        [[0.0741],\n",
       "         [0.1481],\n",
       "         [0.1111],\n",
       "         [0.1111],\n",
       "         [0.1296],\n",
       "         [0.0556],\n",
       "         [0.1667],\n",
       "         [0.0741],\n",
       "         [0.1296],\n",
       "         [0.0000]]])"
      ]
     },
     "execution_count": 164,
     "metadata": {},
     "output_type": "execute_result"
    }
   ],
   "source": [
    "test[:,:,1].unsqueeze(2)/test[:,:,1].unsqueeze(2).sum(dim=1, keepdim=True)"
   ]
  },
  {
   "cell_type": "code",
   "execution_count": 166,
   "metadata": {},
   "outputs": [
    {
     "data": {
      "text/plain": [
       "tensor([[[9, 7],\n",
       "         [0, 1]],\n",
       "\n",
       "        [[6, 9],\n",
       "         [2, 1]],\n",
       "\n",
       "        [[8, 2],\n",
       "         [7, 5]]])"
      ]
     },
     "execution_count": 166,
     "metadata": {},
     "output_type": "execute_result"
    }
   ],
   "source": [
    "torch.cat((torch.randint(0,10,(3,1,2)), torch.randint(0,10,(3,1,2))), dim=1)"
   ]
  },
  {
   "cell_type": "code",
   "execution_count": 168,
   "metadata": {},
   "outputs": [
    {
     "data": {
      "text/plain": [
       "torch.Size([3, 1, 2])"
      ]
     },
     "execution_count": 168,
     "metadata": {},
     "output_type": "execute_result"
    }
   ],
   "source": [
    "torch.randint(0,10,(3,2)).unsqueeze(1).size()"
   ]
  },
  {
   "cell_type": "code",
   "execution_count": 176,
   "metadata": {},
   "outputs": [
    {
     "data": {
      "text/plain": [
       "tensor([[9., 6., 2., 8., 7., 5., 7., 0., 0., 0.],\n",
       "        [5., 1., 8., 2., 6., 3., 9., 8., 0., 0.],\n",
       "        [5., 9., 2., 1., 6., 2., 4., 8., 2., 0.]])"
      ]
     },
     "execution_count": 176,
     "metadata": {},
     "output_type": "execute_result"
    }
   ],
   "source": [
    "test[:,:,0]"
   ]
  },
  {
   "cell_type": "code",
   "execution_count": 191,
   "metadata": {},
   "outputs": [],
   "source": [
    "mask = torch.stack([torch.arange(0,10) for i in range(5)]).int()"
   ]
  },
  {
   "cell_type": "code",
   "execution_count": 192,
   "metadata": {},
   "outputs": [
    {
     "data": {
      "text/plain": [
       "tensor([[0, 1, 2, 3, 4, 5, 6, 7, 8, 9],\n",
       "        [0, 1, 2, 3, 4, 5, 6, 7, 8, 9],\n",
       "        [0, 1, 2, 3, 4, 5, 6, 7, 8, 9],\n",
       "        [0, 1, 2, 3, 4, 5, 6, 7, 8, 9],\n",
       "        [0, 1, 2, 3, 4, 5, 6, 7, 8, 9]], dtype=torch.int32)"
      ]
     },
     "execution_count": 192,
     "metadata": {},
     "output_type": "execute_result"
    }
   ],
   "source": [
    "mask"
   ]
  },
  {
   "cell_type": "code",
   "execution_count": 193,
   "metadata": {},
   "outputs": [],
   "source": [
    "test = torch.stack([torch.full((1,10),i).squeeze(0) for i in torch.tensor([7,8,9,7,2])]).int()"
   ]
  },
  {
   "cell_type": "code",
   "execution_count": 194,
   "metadata": {},
   "outputs": [
    {
     "data": {
      "text/plain": [
       "tensor([[1, 1, 1, 1, 1, 1, 1, 0, 0, 0],\n",
       "        [1, 1, 1, 1, 1, 1, 1, 1, 0, 0],\n",
       "        [1, 1, 1, 1, 1, 1, 1, 1, 1, 0],\n",
       "        [1, 1, 1, 1, 1, 1, 1, 0, 0, 0],\n",
       "        [1, 1, 0, 0, 0, 0, 0, 0, 0, 0]], dtype=torch.uint8)"
      ]
     },
     "execution_count": 194,
     "metadata": {},
     "output_type": "execute_result"
    }
   ],
   "source": [
    "mask < test"
   ]
  }
 ],
 "metadata": {
  "kernelspec": {
   "display_name": "Python [conda env:torch37]",
   "language": "python",
   "name": "conda-env-torch37-py"
  },
  "language_info": {
   "codemirror_mode": {
    "name": "ipython",
    "version": 3
   },
   "file_extension": ".py",
   "mimetype": "text/x-python",
   "name": "python",
   "nbconvert_exporter": "python",
   "pygments_lexer": "ipython3",
   "version": "3.7.1"
  }
 },
 "nbformat": 4,
 "nbformat_minor": 2
}
