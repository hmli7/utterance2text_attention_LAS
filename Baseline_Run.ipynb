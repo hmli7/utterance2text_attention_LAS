{
 "cells": [
  {
   "cell_type": "code",
   "execution_count": 1,
   "metadata": {},
   "outputs": [],
   "source": [
    "import numpy as np\n",
    "import os\n",
    "import torch\n",
    "import torch.optim as optim\n",
    "import torch.nn as nn\n",
    "\n",
    "import matplotlib.pyplot as plt\n",
    "%matplotlib inline"
   ]
  },
  {
   "cell_type": "code",
   "execution_count": 25,
   "metadata": {},
   "outputs": [],
   "source": [
    "from loss import *"
   ]
  },
  {
   "cell_type": "code",
   "execution_count": 26,
   "metadata": {},
   "outputs": [],
   "source": [
    "import paths\n",
    "import config\n",
    "import util\n",
    "import importlib\n",
    "import data\n",
    "import decay\n",
    "import s2s_controller\n",
    "import trainer, trainer_with_tensorboar, trainer_with_tensorboar_inference\n",
    "import char_language_model"
   ]
  },
  {
   "cell_type": "code",
   "execution_count": 27,
   "metadata": {},
   "outputs": [],
   "source": [
    "reload_packages = [paths, util, config, data, decay, s2s_controller, trainer, trainer_with_tensorboar, trainer_with_tensorboar_inference, char_language_model]\n",
    "for package in reload_packages:\n",
    "    importlib.reload(package)\n",
    "# importlib.reload(data)"
   ]
  },
  {
   "cell_type": "code",
   "execution_count": 5,
   "metadata": {},
   "outputs": [],
   "source": [
    "from tensorboardX import SummaryWriter"
   ]
  },
  {
   "cell_type": "code",
   "execution_count": 6,
   "metadata": {},
   "outputs": [
    {
     "data": {
      "text/plain": [
       "'cuda'"
      ]
     },
     "execution_count": 6,
     "metadata": {},
     "output_type": "execute_result"
    }
   ],
   "source": [
    "DEVICE = \"cuda\" if torch.cuda.is_available() else \"cpu\"\n",
    "DEVICE"
   ]
  },
  {
   "cell_type": "markdown",
   "metadata": {},
   "source": [
    "# Load Data"
   ]
  },
  {
   "cell_type": "code",
   "execution_count": 7,
   "metadata": {},
   "outputs": [],
   "source": [
    "data_helper = data.Data()"
   ]
  },
  {
   "cell_type": "code",
   "execution_count": 8,
   "metadata": {},
   "outputs": [
    {
     "name": "stdout",
     "output_type": "stream",
     "text": [
      "Batch Size:  64\n",
      "Preparing corpus...\n",
      "(24724,) (24724,)\n",
      "Dataset Device: cuda\n",
      "Batch Size:  64\n",
      "Preparing corpus...\n",
      "(1106,) (1106,)\n",
      "Dataset Device: cuda\n",
      "Batch Size:  64\n",
      "Dataset Device: cuda\n"
     ]
    }
   ],
   "source": [
    "train_loader = data_helper.get_loader(mode='train')\n",
    "val_loader = data_helper.get_loader(mode='val')\n",
    "test_loader = data_helper.get_loader(mode='test')"
   ]
  },
  {
   "cell_type": "markdown",
   "metadata": {},
   "source": [
    "- [ ] debug loss while validation\n",
    "    - why loss is so large for almost the same prediction\n",
    "- [x] add teacher force decay\n",
    "- [x] add grumbel lr decay\n",
    "- [x] try to predict using early models\n",
    "- [ ] TODO: in random search inferensing, use a batch of same utterance of size NUM_CANDIDATE instead of looping.\n",
    "- [ ] weight initialization according to the paper\n",
    "- [ ] init bias with tf\n",
    "- [ ] pretrain word embedding"
   ]
  },
  {
   "cell_type": "markdown",
   "metadata": {},
   "source": [
    "# Define model"
   ]
  },
  {
   "cell_type": "code",
   "execution_count": 9,
   "metadata": {},
   "outputs": [
    {
     "data": {
      "text/plain": [
       "34"
      ]
     },
     "execution_count": 9,
     "metadata": {},
     "output_type": "execute_result"
    }
   ],
   "source": [
    "data_helper.LANG.n_chars"
   ]
  },
  {
   "cell_type": "code",
   "execution_count": 28,
   "metadata": {},
   "outputs": [],
   "source": [
    "parameters = {\n",
    "    'embed_size' : 40, \n",
    "    'hidden_size' : 256, \n",
    "    'n_layers' : 1, # number of hidden layers in the first lstm layer\n",
    "    'n_plstm'  : 3, # one normal lstm, three plstm\n",
    "    'mlp_hidden_size' : 128,\n",
    "    'mlp_output_size' : 128,\n",
    "    # ---- decoder ----\n",
    "    'decoder_vocab_size' : data_helper.LANG.n_chars, \n",
    "    'decoder_embed_size' : 256, \n",
    "    'decoder_hidden_size' : 512, \n",
    "    'decoder_n_layers' : 2, \n",
    "    'decoder_mlp_hidden_size' : 256,\n",
    "    'decoder_padding_value' : char_language_model.EOS_token,\n",
    "    'GUMBEL_SOFTMAX' :False\n",
    "}\n",
    "# use eos token to pad\n",
    "# use the vocab_size as the padding value for label embedding and pad_sequence; \n",
    "# cannot use -1 for label, which will cause error in criterion"
   ]
  },
  {
   "cell_type": "code",
   "execution_count": 29,
   "metadata": {},
   "outputs": [],
   "source": [
    "model = s2s_controller.Sequence2Sequence(**parameters) "
   ]
  },
  {
   "cell_type": "code",
   "execution_count": 30,
   "metadata": {},
   "outputs": [
    {
     "data": {
      "text/plain": [
       "Sequence2Sequence(\n",
       "  (encoder): Encoder_RNN(\n",
       "    (rnns): ModuleList(\n",
       "      (0): LSTM(40, 256, bidirectional=True)\n",
       "      (1): pBLSTM(\n",
       "        (lstm): LSTM(1024, 256, bidirectional=True)\n",
       "      )\n",
       "      (2): pBLSTM(\n",
       "        (lstm): LSTM(1024, 256, bidirectional=True)\n",
       "      )\n",
       "      (3): pBLSTM(\n",
       "        (lstm): LSTM(1024, 256, bidirectional=True)\n",
       "      )\n",
       "    )\n",
       "    (fc1): Linear(in_features=512, out_features=128, bias=True)\n",
       "    (fc2): Linear(in_features=512, out_features=128, bias=True)\n",
       "  )\n",
       "  (decoder): Decoder_RNN(\n",
       "    (embedding): Embedding(34, 256)\n",
       "    (rnns): ModuleList(\n",
       "      (0): LSTMCell(384, 512)\n",
       "      (1): LSTMCell(512, 512)\n",
       "    )\n",
       "    (attention): Attention()\n",
       "    (fc): Linear(in_features=512, out_features=128, bias=True)\n",
       "    (mlp): MLP(\n",
       "      (fc1): Linear(in_features=256, out_features=256, bias=True)\n",
       "      (relu): LeakyReLU(negative_slope=0.9)\n",
       "      (fc2): Linear(in_features=256, out_features=34, bias=True)\n",
       "    )\n",
       "  )\n",
       ")"
      ]
     },
     "execution_count": 30,
     "metadata": {},
     "output_type": "execute_result"
    }
   ],
   "source": [
    "model"
   ]
  },
  {
   "cell_type": "code",
   "execution_count": 31,
   "metadata": {},
   "outputs": [],
   "source": [
    "optimizer = optim.Adam(model.parameters(), lr=1e-3)\n",
    "# optimizer = torch.optim.SGD(model.parameters(), lr=1e-3*0.5, momentum=0.9, nesterov=True)\n",
    "best_epoch, best_vali_loss, starting_epoch = 0, 400, 0"
   ]
  },
  {
   "cell_type": "code",
   "execution_count": 32,
   "metadata": {},
   "outputs": [],
   "source": [
    "scheduler = optim.lr_scheduler.ReduceLROnPlateau(optimizer, mode='min', factor=0.01, patience=1, verbose=True)"
   ]
  },
  {
   "cell_type": "code",
   "execution_count": 33,
   "metadata": {},
   "outputs": [],
   "source": [
    "criterion = nn.CrossEntropyLoss(reduction='none')\n",
    "# criterion = loss.SoftCrossEntropy(reduction='none') # training uses gumbel softmax smoothed ground truth to calculate loss\n",
    "validation_criterion = nn.CrossEntropyLoss(reduction='none') # validation uses hard label ground truth to calculate loss"
   ]
  },
  {
   "cell_type": "code",
   "execution_count": 34,
   "metadata": {},
   "outputs": [],
   "source": [
    "output_path = os.path.join(paths.output_path, 'experiment_baseline_outputs')"
   ]
  },
  {
   "cell_type": "code",
   "execution_count": 35,
   "metadata": {},
   "outputs": [],
   "source": [
    "# # proceeding from old models\n",
    "# model_path = os.path.join(output_path, 'baseline_s2s_19.pth.tar')\n",
    "# print(\"=> loading checkpoint '{}'\".format(model_path))\n",
    "# checkpoint = torch.load(model_path)\n",
    "# starting_epoch = checkpoint['epoch']+1\n",
    "# # best_vali_acc = checkpoint['best_vali_acc']\n",
    "# model_state_dict = checkpoint['model_state_dict']\n",
    "# model.load_state_dict(model_state_dict)\n",
    "# optimizer.load_state_dict(checkpoint['optimizer_label_state_dict'])\n",
    "# best_vali_loss = checkpoint['best_vali_loss']\n",
    "# best_epoch = checkpoint['best_epoch']\n",
    "# print(\"=> loaded checkpoint '{}' (epoch {})\"\n",
    "#       .format(model_path, checkpoint['epoch']))\n",
    "# # del checkpoint, model_state_dict"
   ]
  },
  {
   "cell_type": "code",
   "execution_count": 36,
   "metadata": {},
   "outputs": [],
   "source": [
    "# for state in optimizer.state.values():\n",
    "#     for k, v in state.items():\n",
    "#         if isinstance(v, torch.Tensor):\n",
    "#             state[k] = v.cuda()"
   ]
  },
  {
   "cell_type": "code",
   "execution_count": 37,
   "metadata": {},
   "outputs": [],
   "source": [
    "# init_TEACHER_FORCING_Ratio=0.9\n",
    "# decay_scheduler = decay.BasicDecay(initial_rate=init_TEACHER_FORCING_Ratio, anneal_rate=0.8, min_rate=0, every_step=5, mode='step')\n",
    "\n",
    "# for i in range(20):\n",
    "#     print(decay_scheduler.get_rate(i))"
   ]
  },
  {
   "cell_type": "code",
   "execution_count": 38,
   "metadata": {},
   "outputs": [],
   "source": [
    "# %pdb\n",
    "# with SummaryWriter(os.path.join(output_path, \"tensorboard_logs/train_pytorch\"), comment='training') as tLog, SummaryWriter(os.path.join(output_path, \"tensorboard_logs/val_pytorch\"), comment='testing') as vLog: \n",
    "# #     tLog.add_graph(model, test_input, True)\n",
    "#     trainer_with_tensorboar_inference.run(model = model,\n",
    "#                                 optimizer = optimizer,\n",
    "#                                 criterion = criterion,\n",
    "#                                 validation_criterion = validation_criterion,\n",
    "#                                 train_dataloader = train_loader,\n",
    "#                                 valid_dataloader = val_loader,\n",
    "#                                 language_model = data_helper.LANG,\n",
    "#                                 best_epoch = best_epoch,\n",
    "#                                 best_vali_loss = best_vali_loss, \n",
    "#                                 DEVICE = DEVICE, \n",
    "#                                 tLog = tLog,\n",
    "#                                 vLog = vLog,\n",
    "#                                 teacher_forcing_scheduler = decay_scheduler,\n",
    "#                                 scheduler=scheduler, \n",
    "#                                 start_epoch=starting_epoch, \n",
    "#                                 model_prefix=config.model_prefix,\n",
    "#                                 output_path=output_path)"
   ]
  },
  {
   "cell_type": "code",
   "execution_count": 39,
   "metadata": {},
   "outputs": [],
   "source": [
    "# %pdb\n",
    "# trainer.run(model = model,\n",
    "#             optimizer = optimizer, \n",
    "#             criterion = criterion, \n",
    "#             train_dataloader = train_loader, \n",
    "#             valid_dataloader = val_loader, \n",
    "#             language_model = data_helper.LANG,\n",
    "#             best_epoch = best_epoch, \n",
    "#             best_vali_loss = best_vali_loss, \n",
    "#             DEVICE = DEVICE, \n",
    "#             TEACHER_FORCING_Ratio = 1,\n",
    "#             scheduler=None, \n",
    "#             start_epoch=starting_epoch, \n",
    "#             model_prefix=config.model_prefix)"
   ]
  },
  {
   "cell_type": "markdown",
   "metadata": {},
   "source": [
    "# Validation"
   ]
  },
  {
   "cell_type": "code",
   "execution_count": 22,
   "metadata": {},
   "outputs": [],
   "source": [
    "# %pdb\n",
    "# model = model.to(DEVICE)\n",
    "# validation_criterion = validation_criterion.to(DEVICE)\n",
    "# trainer_with_tensorboar_inference.test_validation(model=model,\n",
    "#                                                   validation_criterion = validation_criterion,\n",
    "#                                                   valid_dataloader = val_loader, \n",
    "#                                                   language_model = data_helper.LANG, \n",
    "#                                                   DEVICE = DEVICE)"
   ]
  },
  {
   "cell_type": "code",
   "execution_count": 23,
   "metadata": {},
   "outputs": [],
   "source": [
    "# %%time\n",
    "# model = model.to(DEVICE)\n",
    "# validation_criterion = validation_criterion.to(DEVICE)\n",
    "# print(trainer_with_tensorboar_inference.test_validation_random_search(model=model,\n",
    "#                                                                       validation_criterion = validation_criterion,\n",
    "#                                                                       valid_dataloader = val_loader, \n",
    "#                                                                       language_model = data_helper.LANG, \n",
    "#                                                                       DEVICE = DEVICE, \n",
    "#                                                                       MAX_SEQ_LEN=500, \n",
    "#                                                                         N_CANDIDATES=100))"
   ]
  },
  {
   "cell_type": "markdown",
   "metadata": {},
   "source": [
    "# Testing"
   ]
  },
  {
   "cell_type": "code",
   "execution_count": 24,
   "metadata": {},
   "outputs": [
    {
     "name": "stdout",
     "output_type": "stream",
     "text": [
      "Automatic pdb calling has been turned ON\n",
      "=> loading checkpoint '../outputs/experiment_baseline_outputs/baseline_s2s_16.pth.tar'\n",
      "=> loaded checkpoint '../outputs/experiment_baseline_outputs/baseline_s2s_16.pth.tar' (epoch 16)\n",
      "val_loss:498.6865 val_distance:11.1418\n",
      "## Start inferencing....\n",
      "=> loading checkpoint '../outputs/experiment_baseline_outputs/baseline_s2s_17.pth.tar'\n",
      "=> loaded checkpoint '../outputs/experiment_baseline_outputs/baseline_s2s_17.pth.tar' (epoch 17)\n",
      "val_loss:504.8724 val_distance:10.4703\n",
      "## Start inferencing....\n",
      "=> loading checkpoint '../outputs/experiment_baseline_outputs/baseline_s2s_18.pth.tar'\n",
      "=> loaded checkpoint '../outputs/experiment_baseline_outputs/baseline_s2s_18.pth.tar' (epoch 18)\n",
      "val_loss:516.0710 val_distance:10.3702\n",
      "## Start inferencing....\n",
      "=> loading checkpoint '../outputs/experiment_baseline_outputs/baseline_s2s_19.pth.tar'\n",
      "=> loaded checkpoint '../outputs/experiment_baseline_outputs/baseline_s2s_19.pth.tar' (epoch 19)\n",
      "val_loss:522.0345 val_distance:10.2820\n",
      "## Start inferencing....\n"
     ]
    }
   ],
   "source": [
    "%pdb\n",
    "for epoch in [16,17,18,19]:\n",
    "    # checkpoint = torch.load(\"checkpoint.pt\")\n",
    "    model_prediction = s2s_controller.Sequence2Sequence(**parameters) \n",
    "    # proceeding from old models\n",
    "    model_path = os.path.join(output_path, 'baseline_s2s_'+str(epoch)+'.pth.tar')\n",
    "    print(\"=> loading checkpoint '{}'\".format(model_path))\n",
    "    checkpoint = torch.load(model_path)\n",
    "    starting_epoch = checkpoint['epoch']+1\n",
    "    model_state_dict = checkpoint['model_state_dict']\n",
    "    model_prediction.load_state_dict(model_state_dict)\n",
    "    # optimizer.load_state_dict(checkpoint['optimizer_label_state_dict'])\n",
    "    best_vali_loss = checkpoint['best_vali_loss']\n",
    "    best_epoch = checkpoint['best_epoch']\n",
    "    print(\"=> loaded checkpoint '{}' (epoch {})\"\n",
    "          .format(model_path, checkpoint['epoch']))\n",
    "\n",
    "    print('val_loss:%.4f val_distance:%.4f' % (checkpoint['val_loss'], checkpoint['val_distance']))\n",
    "\n",
    "    model_prediction = model_prediction.to(DEVICE)\n",
    "#     references = trainer_with_tensorboar_inference.inference(model_prediction, test_loader,language_model=data_helper.LANG, MAX_SEQ_LEN=500)\n",
    "    references = trainer_with_tensorboar_inference.inference_random_search(model_prediction, test_loader,language_model=data_helper.LANG, validation_criterion=validation_criterion, DEVICE=DEVICE, MAX_SEQ_LEN=500, N_CANDIDATES=100)\n",
    "    import pandas as pd\n",
    "    varification_results_df = pd.DataFrame({'Id':np.arange(test_loader.dataset.size), 'Predicted':np.array(references)})\n",
    "\n",
    "    varification_results_df.to_csv(os.path.join(paths.output_path, 'submission_'+'baseline_random_'+str(epoch)+'.csv'),index=False)"
   ]
  },
  {
   "cell_type": "code",
   "execution_count": null,
   "metadata": {},
   "outputs": [],
   "source": [
    "# %pdb\n",
    "# model = model.to(DEVICE)\n",
    "# references = trainer_with_tensorboar_inference.inference(model, test_loader,language_model=data_helper.LANG, MAX_SEQ_LEN=500)"
   ]
  },
  {
   "cell_type": "code",
   "execution_count": null,
   "metadata": {},
   "outputs": [],
   "source": []
  },
  {
   "cell_type": "code",
   "execution_count": null,
   "metadata": {},
   "outputs": [],
   "source": [
    "# references_random_search = trainer_with_tensorboar_inference.inference(model, test_dataloader, data_helper.LANG, MAX_SEQ_LEN=500, N_CANDIDATES=100)"
   ]
  },
  {
   "cell_type": "markdown",
   "metadata": {},
   "source": [
    "# Evaluation"
   ]
  },
  {
   "cell_type": "code",
   "execution_count": 102,
   "metadata": {},
   "outputs": [],
   "source": [
    "# encoder = nn.Sequential(list(model.children())[0]).to(DEVICE)\n",
    "# decoder = nn.Sequential(list(model.children())[1]).to(DEVICE)"
   ]
  },
  {
   "cell_type": "code",
   "execution_count": 103,
   "metadata": {},
   "outputs": [],
   "source": [
    "# test = next(iter(train_loader))"
   ]
  },
  {
   "cell_type": "code",
   "execution_count": 104,
   "metadata": {},
   "outputs": [],
   "source": [
    "# utterance = test[0][0:2]\n",
    "# # utterance.size()"
   ]
  },
  {
   "cell_type": "code",
   "execution_count": 106,
   "metadata": {},
   "outputs": [
    {
     "data": {
      "text/plain": [
       "(torch.Size([774, 40]), torch.Size([420, 40]))"
      ]
     },
     "execution_count": 106,
     "metadata": {},
     "output_type": "execute_result"
    }
   ],
   "source": [
    "# utterance[0].size(), utterance[1].size()"
   ]
  },
  {
   "cell_type": "code",
   "execution_count": 107,
   "metadata": {},
   "outputs": [
    {
     "data": {
      "text/plain": [
       "(torch.Size([146]), torch.Size([69]))"
      ]
     },
     "execution_count": 107,
     "metadata": {},
     "output_type": "execute_result"
    }
   ],
   "source": [
    "# transcript = test[1][0:2]\n",
    "# # transcript.size()\n",
    "# transcript[0].size(), transcript[1].size()"
   ]
  },
  {
   "cell_type": "code",
   "execution_count": 108,
   "metadata": {},
   "outputs": [],
   "source": [
    "# y_hat_label, labels_padded, attentions, masked_energy, key_mask  = trainer.evaluate(encoder=encoder,\n",
    "#                                                          decoder=decoder,\n",
    "#                                                          lang=data_helper.LANG,\n",
    "#                                                          utterance=utterance,\n",
    "#                                                          transcript=transcript,\n",
    "#                                                          TEACHER_FORCING_Ratio=1)"
   ]
  },
  {
   "cell_type": "code",
   "execution_count": 148,
   "metadata": {},
   "outputs": [
    {
     "data": {
      "text/plain": [
       "torch.Size([2, 146])"
      ]
     },
     "execution_count": 148,
     "metadata": {},
     "output_type": "execute_result"
    }
   ],
   "source": [
    "# y_hat_label.size()"
   ]
  },
  {
   "cell_type": "code",
   "execution_count": 110,
   "metadata": {},
   "outputs": [
    {
     "data": {
      "text/plain": [
       "torch.Size([2, 146])"
      ]
     },
     "execution_count": 110,
     "metadata": {},
     "output_type": "execute_result"
    }
   ],
   "source": [
    "# labels_padded.size()"
   ]
  },
  {
   "cell_type": "code",
   "execution_count": 111,
   "metadata": {},
   "outputs": [
    {
     "data": {
      "text/plain": [
       "tensor([[ 0, 22,  7,  9,  2, 10, 21, 20,  7, 26, 15, 21, 20, 25,  2,  7, 24, 11,\n",
       "          2, 15, 20,  9, 24, 11,  7, 25, 15, 20, 13,  2, 19, 21, 24, 11,  2, 24,\n",
       "          7, 22, 15, 10, 18, 31,  2, 26, 14,  7, 20,  2, 26, 14, 21, 25, 11,  2,\n",
       "         12, 24, 21, 19,  2, 15, 20, 10, 15, 28, 15, 10, 27,  7, 18, 25,  2, 19,\n",
       "          7, 17, 15, 20, 13,  2,  9,  7, 20, 10, 15, 10,  7, 26, 11, 25,  2, 19,\n",
       "         21, 24, 11,  2, 14, 11,  7, 28, 15, 18, 31,  2, 24, 11, 18, 15,  7, 20,\n",
       "         26,  2, 21, 20,  2, 25, 22, 11,  9, 15,  7, 18,  2, 15, 20, 26, 11, 24,\n",
       "         11, 25, 26,  2, 19, 21, 20, 11, 31,  2, 26, 14,  7, 20,  2, 11, 28, 11,\n",
       "         24,  1],\n",
       "        [ 0, 10, 21, 27,  8, 18, 11,  5, 23, 27, 21, 26, 11,  2, 29, 11,  2, 18,\n",
       "         21, 28, 11,  2, 26, 14, 11, 25, 11,  2, 14, 21, 24, 25, 11, 25,  2,  9,\n",
       "         21, 19, 19,  7,  2, 10, 21, 27,  8, 18, 11,  5, 23, 27, 21, 26, 11,  2,\n",
       "         14, 11,  2, 25,  7, 31, 25,  2, 22, 11, 24, 15, 21, 10,  1,  1,  1,  1,\n",
       "          1,  1,  1,  1,  1,  1,  1,  1,  1,  1,  1,  1,  1,  1,  1,  1,  1,  1,\n",
       "          1,  1,  1,  1,  1,  1,  1,  1,  1,  1,  1,  1,  1,  1,  1,  1,  1,  1,\n",
       "          1,  1,  1,  1,  1,  1,  1,  1,  1,  1,  1,  1,  1,  1,  1,  1,  1,  1,\n",
       "          1,  1,  1,  1,  1,  1,  1,  1,  1,  1,  1,  1,  1,  1,  1,  1,  1,  1,\n",
       "          1,  1]])"
      ]
     },
     "execution_count": 111,
     "metadata": {},
     "output_type": "execute_result"
    }
   ],
   "source": [
    "# labels_padded"
   ]
  },
  {
   "cell_type": "code",
   "execution_count": 112,
   "metadata": {},
   "outputs": [
    {
     "data": {
      "text/plain": [
       "torch.Size([2, 96, 146])"
      ]
     },
     "execution_count": 112,
     "metadata": {},
     "output_type": "execute_result"
    }
   ],
   "source": [
    "# attentions.size()"
   ]
  },
  {
   "cell_type": "code",
   "execution_count": 113,
   "metadata": {},
   "outputs": [
    {
     "data": {
      "text/plain": [
       "tensor([[[0.0104, 0.0104, 0.0104,  ..., 0.0104, 0.0104, 0.0104],\n",
       "         [0.0104, 0.0104, 0.0104,  ..., 0.0104, 0.0104, 0.0104],\n",
       "         [0.0104, 0.0104, 0.0104,  ..., 0.0104, 0.0104, 0.0104],\n",
       "         ...,\n",
       "         [0.0104, 0.0104, 0.0104,  ..., 0.0104, 0.0104, 0.0104],\n",
       "         [0.0104, 0.0104, 0.0104,  ..., 0.0104, 0.0104, 0.0104],\n",
       "         [0.0104, 0.0104, 0.0104,  ..., 0.0104, 0.0104, 0.0104]],\n",
       "\n",
       "        [[0.0192, 0.0192, 0.0192,  ..., 0.0193, 0.0193, 0.0193],\n",
       "         [0.0192, 0.0192, 0.0192,  ..., 0.0192, 0.0192, 0.0192],\n",
       "         [0.0192, 0.0192, 0.0192,  ..., 0.0192, 0.0192, 0.0192],\n",
       "         ...,\n",
       "         [0.0000, 0.0000, 0.0000,  ..., 0.0000, 0.0000, 0.0000],\n",
       "         [0.0000, 0.0000, 0.0000,  ..., 0.0000, 0.0000, 0.0000],\n",
       "         [0.0000, 0.0000, 0.0000,  ..., 0.0000, 0.0000, 0.0000]]],\n",
       "       device='cuda:0')"
      ]
     },
     "execution_count": 113,
     "metadata": {},
     "output_type": "execute_result"
    }
   ],
   "source": [
    "# attentions"
   ]
  },
  {
   "cell_type": "code",
   "execution_count": 114,
   "metadata": {},
   "outputs": [
    {
     "data": {
      "text/plain": [
       "tensor([[[0.0104],\n",
       "         [0.0104],\n",
       "         [0.0104],\n",
       "         [0.0104],\n",
       "         [0.0104],\n",
       "         [0.0104],\n",
       "         [0.0104],\n",
       "         [0.0104],\n",
       "         [0.0104],\n",
       "         [0.0104],\n",
       "         [0.0104],\n",
       "         [0.0104],\n",
       "         [0.0104],\n",
       "         [0.0104],\n",
       "         [0.0104],\n",
       "         [0.0104],\n",
       "         [0.0104],\n",
       "         [0.0104],\n",
       "         [0.0104],\n",
       "         [0.0104],\n",
       "         [0.0104],\n",
       "         [0.0104],\n",
       "         [0.0104],\n",
       "         [0.0104],\n",
       "         [0.0104],\n",
       "         [0.0104],\n",
       "         [0.0104],\n",
       "         [0.0104],\n",
       "         [0.0104],\n",
       "         [0.0104],\n",
       "         [0.0104],\n",
       "         [0.0104],\n",
       "         [0.0104],\n",
       "         [0.0104],\n",
       "         [0.0104],\n",
       "         [0.0104],\n",
       "         [0.0104],\n",
       "         [0.0104],\n",
       "         [0.0104],\n",
       "         [0.0104],\n",
       "         [0.0104],\n",
       "         [0.0104],\n",
       "         [0.0104],\n",
       "         [0.0104],\n",
       "         [0.0104],\n",
       "         [0.0104],\n",
       "         [0.0104],\n",
       "         [0.0104],\n",
       "         [0.0104],\n",
       "         [0.0104],\n",
       "         [0.0104],\n",
       "         [0.0104],\n",
       "         [0.0104],\n",
       "         [0.0104],\n",
       "         [0.0104],\n",
       "         [0.0104],\n",
       "         [0.0104],\n",
       "         [0.0104],\n",
       "         [0.0104],\n",
       "         [0.0104],\n",
       "         [0.0104],\n",
       "         [0.0104],\n",
       "         [0.0104],\n",
       "         [0.0104],\n",
       "         [0.0104],\n",
       "         [0.0104],\n",
       "         [0.0104],\n",
       "         [0.0104],\n",
       "         [0.0104],\n",
       "         [0.0104],\n",
       "         [0.0104],\n",
       "         [0.0104],\n",
       "         [0.0104],\n",
       "         [0.0104],\n",
       "         [0.0104],\n",
       "         [0.0104],\n",
       "         [0.0104],\n",
       "         [0.0104],\n",
       "         [0.0104],\n",
       "         [0.0104],\n",
       "         [0.0104],\n",
       "         [0.0104],\n",
       "         [0.0104],\n",
       "         [0.0104],\n",
       "         [0.0104],\n",
       "         [0.0104],\n",
       "         [0.0104],\n",
       "         [0.0104],\n",
       "         [0.0104],\n",
       "         [0.0104],\n",
       "         [0.0104],\n",
       "         [0.0104],\n",
       "         [0.0104],\n",
       "         [0.0104],\n",
       "         [0.0104],\n",
       "         [0.0104]],\n",
       "\n",
       "        [[0.0193],\n",
       "         [0.0192],\n",
       "         [0.0192],\n",
       "         [0.0192],\n",
       "         [0.0192],\n",
       "         [0.0192],\n",
       "         [0.0192],\n",
       "         [0.0192],\n",
       "         [0.0192],\n",
       "         [0.0192],\n",
       "         [0.0192],\n",
       "         [0.0192],\n",
       "         [0.0192],\n",
       "         [0.0192],\n",
       "         [0.0192],\n",
       "         [0.0192],\n",
       "         [0.0192],\n",
       "         [0.0192],\n",
       "         [0.0192],\n",
       "         [0.0192],\n",
       "         [0.0192],\n",
       "         [0.0192],\n",
       "         [0.0192],\n",
       "         [0.0192],\n",
       "         [0.0192],\n",
       "         [0.0192],\n",
       "         [0.0192],\n",
       "         [0.0192],\n",
       "         [0.0193],\n",
       "         [0.0192],\n",
       "         [0.0193],\n",
       "         [0.0193],\n",
       "         [0.0193],\n",
       "         [0.0193],\n",
       "         [0.0193],\n",
       "         [0.0193],\n",
       "         [0.0193],\n",
       "         [0.0193],\n",
       "         [0.0192],\n",
       "         [0.0192],\n",
       "         [0.0192],\n",
       "         [0.0192],\n",
       "         [0.0192],\n",
       "         [0.0192],\n",
       "         [0.0192],\n",
       "         [0.0192],\n",
       "         [0.0192],\n",
       "         [0.0193],\n",
       "         [0.0193],\n",
       "         [0.0192],\n",
       "         [0.0192],\n",
       "         [0.0192],\n",
       "         [0.0000],\n",
       "         [0.0000],\n",
       "         [0.0000],\n",
       "         [0.0000],\n",
       "         [0.0000],\n",
       "         [0.0000],\n",
       "         [0.0000],\n",
       "         [0.0000],\n",
       "         [0.0000],\n",
       "         [0.0000],\n",
       "         [0.0000],\n",
       "         [0.0000],\n",
       "         [0.0000],\n",
       "         [0.0000],\n",
       "         [0.0000],\n",
       "         [0.0000],\n",
       "         [0.0000],\n",
       "         [0.0000],\n",
       "         [0.0000],\n",
       "         [0.0000],\n",
       "         [0.0000],\n",
       "         [0.0000],\n",
       "         [0.0000],\n",
       "         [0.0000],\n",
       "         [0.0000],\n",
       "         [0.0000],\n",
       "         [0.0000],\n",
       "         [0.0000],\n",
       "         [0.0000],\n",
       "         [0.0000],\n",
       "         [0.0000],\n",
       "         [0.0000],\n",
       "         [0.0000],\n",
       "         [0.0000],\n",
       "         [0.0000],\n",
       "         [0.0000],\n",
       "         [0.0000],\n",
       "         [0.0000],\n",
       "         [0.0000],\n",
       "         [0.0000],\n",
       "         [0.0000],\n",
       "         [0.0000],\n",
       "         [0.0000],\n",
       "         [0.0000]]], device='cuda:0', grad_fn=<DivBackward0>)"
      ]
     },
     "execution_count": 114,
     "metadata": {},
     "output_type": "execute_result"
    }
   ],
   "source": [
    "# masked_energy"
   ]
  },
  {
   "cell_type": "code",
   "execution_count": 116,
   "metadata": {},
   "outputs": [
    {
     "data": {
      "text/plain": [
       "torch.Size([2, 96, 146])"
      ]
     },
     "execution_count": 116,
     "metadata": {},
     "output_type": "execute_result"
    }
   ],
   "source": [
    "# key_mask.size()"
   ]
  },
  {
   "cell_type": "code",
   "execution_count": 132,
   "metadata": {},
   "outputs": [
    {
     "data": {
      "text/plain": [
       "tensor([1., 1., 1., 1., 1., 1., 1., 1., 1., 1., 1., 1., 1., 1., 1., 1., 1., 1.,\n",
       "        1., 1., 1., 1., 1., 1., 1., 1., 1., 1., 1., 1., 1., 1., 1., 1., 1., 1.,\n",
       "        1., 1., 1., 1., 1., 1., 1., 1., 1., 1., 1., 1., 1., 1., 1., 1., 1., 1.,\n",
       "        1., 1., 1., 1., 1., 1., 1., 1., 1., 1., 1., 1., 1., 1., 1., 1., 1., 1.,\n",
       "        1., 1., 1., 1., 1., 1., 1., 1., 1., 1., 1., 1., 1., 1., 1., 1., 1., 1.,\n",
       "        1., 1., 1., 1., 1., 1., 1., 1., 1., 1., 1., 1., 1., 1., 1., 1., 1., 1.,\n",
       "        1., 1., 1., 1., 1., 1., 1., 1., 1., 1., 1., 1., 1., 1., 1., 1., 1., 1.,\n",
       "        1., 1., 1., 1., 1., 1., 1., 1., 1., 1., 1., 1., 1., 1., 1., 1., 1., 1.,\n",
       "        1., 1.], device='cuda:0')"
      ]
     },
     "execution_count": 132,
     "metadata": {},
     "output_type": "execute_result"
    }
   ],
   "source": [
    "# key_mask[1][1,:]"
   ]
  },
  {
   "cell_type": "code",
   "execution_count": 137,
   "metadata": {},
   "outputs": [
    {
     "data": {
      "text/plain": [
       "tensor([[3., 3., 3., 3., 3., 3., 3., 3., 3., 3.]])"
      ]
     },
     "execution_count": 137,
     "metadata": {},
     "output_type": "execute_result"
    }
   ],
   "source": [
    "# torch.full((1,10), 3)"
   ]
  },
  {
   "cell_type": "code",
   "execution_count": 50,
   "metadata": {},
   "outputs": [
    {
     "data": {
      "image/png": "[encoded data removed]",
      "text/plain": [
       "<Figure size 432x288 with 1 Axes>"
      ]
     },
     "metadata": {},
     "output_type": "display_data"
    }
   ],
   "source": [
    "# plt.imshow(utterance.cpu().numpy().T, interpolation='nearest')\n",
    "# plt.show()"
   ]
  },
  {
   "cell_type": "code",
   "execution_count": 51,
   "metadata": {},
   "outputs": [
    {
     "data": {
      "text/plain": [
       "\"HE IS NO FAN SEMI-COLON THAT'S FOR SUCKERS PERIOD\""
      ]
     },
     "execution_count": 51,
     "metadata": {},
     "output_type": "execute_result"
    }
   ],
   "source": [
    "# sentence = data_helper.LANG.indexes2string(labels_padded.cpu().numpy()[0])\n",
    "# sentence"
   ]
  },
  {
   "cell_type": "code",
   "execution_count": 52,
   "metadata": {},
   "outputs": [
    {
     "data": {
      "image/png": "[encoded data removed]",
      "text/plain": [
       "<Figure size 1440x1440 with 2 Axes>"
      ]
     },
     "metadata": {},
     "output_type": "display_data"
    }
   ],
   "source": [
    "# trainer.showAttention(list(sentence), attentions.squeeze(0).cpu().numpy().T)"
   ]
  },
  {
   "cell_type": "code",
   "execution_count": 55,
   "metadata": {},
   "outputs": [],
   "source": [
    "# # testing gumbel\n",
    "# test = torch.randint(0,10,(2,4))\n",
    "# torch.FloatTensor(test.size()).uniform_(0,1)\n",
    "\n",
    "# test = nn.Embedding(3,3)\n",
    "\n",
    "# test(torch.LongTensor([0]))\n",
    "\n",
    "# batch_size = 5\n",
    "# length_padded = 10\n",
    "# nb_digits = 10\n",
    "\n",
    "# y = torch.LongTensor(length_padded,batch_size, 1).random_() % nb_digits\n",
    "\n",
    "# # One hot encoding buffer that you create out of the loop and just keep reusing\n",
    "# y_onehot = torch.FloatTensor(length_padded,batch_size, nb_digits)\n",
    "\n",
    "# # In your for loop\n",
    "# y_onehot.zero_()\n",
    "# y_onehot.scatter_(2, y, 1)\n",
    "\n",
    "# print(y)\n",
    "# print(y_onehot)\n",
    "\n",
    "# class Gumbel_Softmax(nn.Module):\n",
    "#     \"\"\"Gumbel_Softmax [Gumbel-Max trick (Gumbel, 1954; Maddison et al., 2014) + Softmax (Jang, E., Gu, S., & Poole, B., 2016)]\n",
    "#         source: https://github.com/ericjang/gumbel-softmax/blob/master/Categorical%20VAE.ipynb\n",
    "#     \"\"\"\n",
    "#     def __init__(self):\n",
    "#         super(Gumbel_Softmax, self).__init__()\n",
    "    \n",
    "#     def sample_gumbel_distribution(self, size, eps=1e-20):\n",
    "#         \"\"\"sample from Gumbel Distribution (0,1)\"\"\"\n",
    "#         uniform_samples = torch.FloatTensor(size).uniform_(0, 1)\n",
    "#         return -torch.log(-torch.log(uniform_samples + eps) + eps)\n",
    "\n",
    "#     def forward(self, logits, temperature):\n",
    "#         y = logits + self.sample_gumbel_distribution(logits.size(), eps=1e-20)\n",
    "#         return nn.functional.softmax(y/temperature, dim=-1)\n",
    "\n",
    "# test_gumbel = Gumbel_Softmax()\n",
    "\n",
    "# test = test_gumbel(y_onehot, 1)\n",
    "\n",
    "# y_onehot[0,0,:]"
   ]
  },
  {
   "cell_type": "code",
   "execution_count": null,
   "metadata": {},
   "outputs": [],
   "source": []
  }
 ],
 "metadata": {
  "kernelspec": {
   "display_name": "Environment (conda_pytorch_p36)",
   "language": "python",
   "name": "conda_pytorch_p36"
  },
  "language_info": {
   "codemirror_mode": {
    "name": "ipython",
    "version": 3
   },
   "file_extension": ".py",
   "mimetype": "text/x-python",
   "name": "python",
   "nbconvert_exporter": "python",
   "pygments_lexer": "ipython3",
   "version": "3.6.5"
  }
 },
 "nbformat": 4,
 "nbformat_minor": 2
}
